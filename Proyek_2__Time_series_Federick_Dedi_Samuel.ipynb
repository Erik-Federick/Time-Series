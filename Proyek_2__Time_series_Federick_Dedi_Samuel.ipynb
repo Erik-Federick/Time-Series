{
  "cells": [
    {
      "cell_type": "markdown",
      "source": [
        "# Time Series"
      ],
      "metadata": {
        "id": "_0RPTBz9Q-O2"
      }
    },
    {
      "cell_type": "markdown",
      "source": [
        "# Data Diri Peserta Dicoding"
      ],
      "metadata": {
        "id": "egzV7d5bQ4je"
      }
    },
    {
      "cell_type": "markdown",
      "source": [
        "### Nama :\n",
        "Federick Dedi Samuel\n",
        "### Nomor Register :\n",
        "1494037162101-2556\n",
        "### E-mail:\n",
        "efederik36@gmail.com"
      ],
      "metadata": {
        "id": "Z-NeyNWpQ8qj"
      }
    },
    {
      "cell_type": "code",
      "execution_count": null,
      "metadata": {
        "id": "ZQAp6i_ah1Dj",
        "colab": {
          "base_uri": "https://localhost:8080/"
        },
        "outputId": "2e0e114a-c959-41da-bd43-fc7261385cd5"
      },
      "outputs": [
        {
          "output_type": "stream",
          "name": "stdout",
          "text": [
            "Looking in indexes: https://pypi.org/simple, https://us-python.pkg.dev/colab-wheels/public/simple/\n",
            "Requirement already satisfied: Kaggle in /usr/local/lib/python3.7/dist-packages (1.5.12)\n",
            "Requirement already satisfied: certifi in /usr/local/lib/python3.7/dist-packages (from Kaggle) (2022.9.24)\n",
            "Requirement already satisfied: six>=1.10 in /usr/local/lib/python3.7/dist-packages (from Kaggle) (1.15.0)\n",
            "Requirement already satisfied: requests in /usr/local/lib/python3.7/dist-packages (from Kaggle) (2.23.0)\n",
            "Requirement already satisfied: python-slugify in /usr/local/lib/python3.7/dist-packages (from Kaggle) (6.1.2)\n",
            "Requirement already satisfied: tqdm in /usr/local/lib/python3.7/dist-packages (from Kaggle) (4.64.1)\n",
            "Requirement already satisfied: python-dateutil in /usr/local/lib/python3.7/dist-packages (from Kaggle) (2.8.2)\n",
            "Requirement already satisfied: urllib3 in /usr/local/lib/python3.7/dist-packages (from Kaggle) (1.24.3)\n",
            "Requirement already satisfied: text-unidecode>=1.3 in /usr/local/lib/python3.7/dist-packages (from python-slugify->Kaggle) (1.3)\n",
            "Requirement already satisfied: idna<3,>=2.5 in /usr/local/lib/python3.7/dist-packages (from requests->Kaggle) (2.10)\n",
            "Requirement already satisfied: chardet<4,>=3.0.2 in /usr/local/lib/python3.7/dist-packages (from requests->Kaggle) (3.0.4)\n"
          ]
        }
      ],
      "source": [
        "!pip install Kaggle\n",
        "!mkdir ~/.kaggle"
      ]
    },
    {
      "cell_type": "code",
      "execution_count": null,
      "metadata": {
        "id": "5UC-1Afyh2ky"
      },
      "outputs": [],
      "source": [
        "! cp kaggle.json ~/.kaggle/\n",
        "! chmod 600 ~/.kaggle/kaggle.json"
      ]
    },
    {
      "cell_type": "code",
      "execution_count": null,
      "metadata": {
        "id": "Hb1VC-nRh4R0",
        "colab": {
          "base_uri": "https://localhost:8080/"
        },
        "outputId": "970b88c2-8fbf-4733-d68b-3b9d8c420827"
      },
      "outputs": [
        {
          "output_type": "stream",
          "name": "stdout",
          "text": [
            "Downloading commodity-prices.zip to /content\n",
            "\r  0% 0.00/354k [00:00<?, ?B/s]\n",
            "\r100% 354k/354k [00:00<00:00, 79.5MB/s]\n"
          ]
        }
      ],
      "source": [
        "!kaggle datasets download -d debashish311601/commodity-prices"
      ]
    },
    {
      "cell_type": "code",
      "execution_count": null,
      "metadata": {
        "id": "ofBO3GdniMA2"
      },
      "outputs": [],
      "source": [
        "import zipfile, os\n",
        "\n",
        "local_zip = '/content/commodity-prices.zip'\n",
        "zip_ref = zipfile.ZipFile(local_zip, 'r')\n",
        "zip_ref.extractall('/content/commodity-prices')\n",
        "zip_ref.close()"
      ]
    },
    {
      "cell_type": "code",
      "execution_count": null,
      "metadata": {
        "colab": {
          "base_uri": "https://localhost:8080/",
          "height": 1000
        },
        "id": "qBraNFXoeK-1",
        "outputId": "dfc39ebf-e8d4-4493-87cc-f966654e4240"
      },
      "outputs": [
        {
          "output_type": "execute_result",
          "data": {
            "text/plain": [
              "          Date  NATURAL GAS   GOLD  WTI CRUDE  BRENT CRUDE  SOYBEANS    CORN  \\\n",
              "0   2000-01-03          NaN    NaN        NaN          NaN    456.50  200.75   \n",
              "1   2000-01-04        2.176  283.7      25.55        24.39    464.25  203.00   \n",
              "2   2000-01-05        2.168  282.1      24.91        23.73    469.25  203.00   \n",
              "3   2000-01-06        2.196  282.4      24.78        23.62    468.00  203.75   \n",
              "4   2000-01-07        2.173  282.9      24.22        23.09    471.50  207.00   \n",
              "5   2000-01-10        2.216  282.7      24.67        23.73    466.25  208.50   \n",
              "6   2000-01-11        2.260  284.4      25.77        24.62    467.00  207.25   \n",
              "7   2000-01-12        2.244  283.7      26.28        24.81    472.50  215.50   \n",
              "8   2000-01-13        2.252  285.1      26.69        24.98    481.75  220.75   \n",
              "9   2000-01-14        2.322  284.9      28.02        25.47    485.50  219.00   \n",
              "10  2000-01-17        2.322  284.9      28.02        25.65    485.50  219.00   \n",
              "11  2000-01-18        2.383  289.6      28.85        26.05    502.25  220.00   \n",
              "12  2000-01-19        2.417  290.3      29.54        25.84    501.00  220.75   \n",
              "13  2000-01-20        2.559  289.3      29.66        26.10    505.50  220.75   \n",
              "14  2000-01-21        2.485  289.7      28.20        26.35    505.25  222.75   \n",
              "15  2000-01-24        2.528  288.1      27.83        26.06    512.00  227.25   \n",
              "16  2000-01-25        2.616  286.6      28.28        26.54    517.00  227.50   \n",
              "17  2000-01-26        2.523  286.5      27.84        26.13    513.25  223.00   \n",
              "18  2000-01-27        2.610  287.1      27.32        25.62    527.00  225.75   \n",
              "19  2000-01-28        2.532  283.0      27.22        25.68    523.50  223.50   \n",
              "\n",
              "    COPPER  SILVER  LOW SULPHUR GAS OIL  ...     ZINC  ULS DIESEL  NICKEL  \\\n",
              "0      NaN     NaN                  NaN  ...  1237.50         NaN  8446.0   \n",
              "1   0.8480   5.375               213.50  ...  1215.00       67.78  8314.0   \n",
              "2   0.8565   5.210               213.00  ...  1209.25       66.55  8307.0   \n",
              "3   0.8530   5.167               211.25  ...  1212.00       66.28  8252.0   \n",
              "4   0.8540   5.195               205.25  ...  1209.25       64.75  8174.0   \n",
              "5   0.8465   5.190               196.00  ...  1196.75       64.72  8130.0   \n",
              "6   0.8435   5.195               201.50  ...  1185.00       66.75  8052.5   \n",
              "7   0.8660   5.143               201.50  ...  1195.75       68.47  8191.0   \n",
              "8   0.8565   5.153               208.25  ...  1194.00       69.28  8107.0   \n",
              "9   0.8625   5.150               213.75  ...  1195.75       73.81  8125.0   \n",
              "10  0.8625   5.150               220.50  ...  1195.75       73.81  8125.0   \n",
              "11  0.8660   5.165               221.00  ...  1195.75       77.04  8125.0   \n",
              "12  0.8825   5.173               221.25  ...  1207.25       80.03  8388.0   \n",
              "13  0.8730   5.257               227.75  ...  1194.50       86.46  8363.0   \n",
              "14  0.8730   5.260               235.25  ...  1190.75       93.50  8495.0   \n",
              "15  0.8565   5.293               225.50  ...  1176.75       86.35  8444.0   \n",
              "16  0.8425   5.315               226.00  ...  1144.50       90.38  8446.0   \n",
              "17  0.8415   5.283               227.50  ...  1135.50       92.13  8401.0   \n",
              "18  0.8445   5.415               222.00  ...  1139.50       91.17  8502.0   \n",
              "19  0.8350   5.327               218.25  ...  1137.00       92.51  8635.0   \n",
              "\n",
              "     WHEAT  SUGAR  GASOLINE  COFFEE  LEAN HOGS  HRW WHEAT  COTTON  \n",
              "0   247.50   6.10       NaN  116.50     55.975     274.25   51.07  \n",
              "1   247.25   5.77       NaN  116.25     55.625     274.00   50.73  \n",
              "2   249.75   5.81       NaN  118.60     55.075     276.25   51.56  \n",
              "3   248.50   5.77       NaN  116.85     55.175     275.00   52.08  \n",
              "4   251.75   5.84       NaN  114.15     55.625     277.75   53.96  \n",
              "5   253.50   5.83       NaN  117.55     55.650     279.75   53.56  \n",
              "6   253.75   5.67       NaN  117.80     56.025     280.00   54.18  \n",
              "7   258.75   5.45       NaN  118.95     54.800     285.75   53.72  \n",
              "8   263.50   5.49       NaN  118.55     54.825     290.00   54.75  \n",
              "9   265.00   5.45       NaN  112.55     56.150     293.00   55.12  \n",
              "10  265.00   5.45       NaN  112.55     56.150     293.00   55.12  \n",
              "11  264.50   5.29       NaN  115.75     55.550     292.00   54.76  \n",
              "12  266.00   5.49       NaN  116.70     56.000     293.50   57.75  \n",
              "13  265.00   5.56       NaN  112.00     56.225     292.75   57.44  \n",
              "14  264.25   5.43       NaN  111.20     57.075     293.00   56.15  \n",
              "15  266.00   5.29       NaN  111.90     56.525     294.50   56.35  \n",
              "16  264.75   5.32       NaN  112.85     56.100     293.50   57.86  \n",
              "17  260.00   5.40       NaN  115.15     56.225     288.25   57.42  \n",
              "18  263.50   5.41       NaN  114.60     56.100     290.75   57.53  \n",
              "19  259.75   5.47       NaN  114.70     57.000     287.75   57.45  \n",
              "\n",
              "[20 rows x 24 columns]"
            ],
            "text/html": [
              "\n",
              "  <div id=\"df-f46e6bf3-9f3a-4313-bda3-9579d5de9ee3\">\n",
              "    <div class=\"colab-df-container\">\n",
              "      <div>\n",
              "<style scoped>\n",
              "    .dataframe tbody tr th:only-of-type {\n",
              "        vertical-align: middle;\n",
              "    }\n",
              "\n",
              "    .dataframe tbody tr th {\n",
              "        vertical-align: top;\n",
              "    }\n",
              "\n",
              "    .dataframe thead th {\n",
              "        text-align: right;\n",
              "    }\n",
              "</style>\n",
              "<table border=\"1\" class=\"dataframe\">\n",
              "  <thead>\n",
              "    <tr style=\"text-align: right;\">\n",
              "      <th></th>\n",
              "      <th>Date</th>\n",
              "      <th>NATURAL GAS</th>\n",
              "      <th>GOLD</th>\n",
              "      <th>WTI CRUDE</th>\n",
              "      <th>BRENT CRUDE</th>\n",
              "      <th>SOYBEANS</th>\n",
              "      <th>CORN</th>\n",
              "      <th>COPPER</th>\n",
              "      <th>SILVER</th>\n",
              "      <th>LOW SULPHUR GAS OIL</th>\n",
              "      <th>...</th>\n",
              "      <th>ZINC</th>\n",
              "      <th>ULS DIESEL</th>\n",
              "      <th>NICKEL</th>\n",
              "      <th>WHEAT</th>\n",
              "      <th>SUGAR</th>\n",
              "      <th>GASOLINE</th>\n",
              "      <th>COFFEE</th>\n",
              "      <th>LEAN HOGS</th>\n",
              "      <th>HRW WHEAT</th>\n",
              "      <th>COTTON</th>\n",
              "    </tr>\n",
              "  </thead>\n",
              "  <tbody>\n",
              "    <tr>\n",
              "      <th>0</th>\n",
              "      <td>2000-01-03</td>\n",
              "      <td>NaN</td>\n",
              "      <td>NaN</td>\n",
              "      <td>NaN</td>\n",
              "      <td>NaN</td>\n",
              "      <td>456.50</td>\n",
              "      <td>200.75</td>\n",
              "      <td>NaN</td>\n",
              "      <td>NaN</td>\n",
              "      <td>NaN</td>\n",
              "      <td>...</td>\n",
              "      <td>1237.50</td>\n",
              "      <td>NaN</td>\n",
              "      <td>8446.0</td>\n",
              "      <td>247.50</td>\n",
              "      <td>6.10</td>\n",
              "      <td>NaN</td>\n",
              "      <td>116.50</td>\n",
              "      <td>55.975</td>\n",
              "      <td>274.25</td>\n",
              "      <td>51.07</td>\n",
              "    </tr>\n",
              "    <tr>\n",
              "      <th>1</th>\n",
              "      <td>2000-01-04</td>\n",
              "      <td>2.176</td>\n",
              "      <td>283.7</td>\n",
              "      <td>25.55</td>\n",
              "      <td>24.39</td>\n",
              "      <td>464.25</td>\n",
              "      <td>203.00</td>\n",
              "      <td>0.8480</td>\n",
              "      <td>5.375</td>\n",
              "      <td>213.50</td>\n",
              "      <td>...</td>\n",
              "      <td>1215.00</td>\n",
              "      <td>67.78</td>\n",
              "      <td>8314.0</td>\n",
              "      <td>247.25</td>\n",
              "      <td>5.77</td>\n",
              "      <td>NaN</td>\n",
              "      <td>116.25</td>\n",
              "      <td>55.625</td>\n",
              "      <td>274.00</td>\n",
              "      <td>50.73</td>\n",
              "    </tr>\n",
              "    <tr>\n",
              "      <th>2</th>\n",
              "      <td>2000-01-05</td>\n",
              "      <td>2.168</td>\n",
              "      <td>282.1</td>\n",
              "      <td>24.91</td>\n",
              "      <td>23.73</td>\n",
              "      <td>469.25</td>\n",
              "      <td>203.00</td>\n",
              "      <td>0.8565</td>\n",
              "      <td>5.210</td>\n",
              "      <td>213.00</td>\n",
              "      <td>...</td>\n",
              "      <td>1209.25</td>\n",
              "      <td>66.55</td>\n",
              "      <td>8307.0</td>\n",
              "      <td>249.75</td>\n",
              "      <td>5.81</td>\n",
              "      <td>NaN</td>\n",
              "      <td>118.60</td>\n",
              "      <td>55.075</td>\n",
              "      <td>276.25</td>\n",
              "      <td>51.56</td>\n",
              "    </tr>\n",
              "    <tr>\n",
              "      <th>3</th>\n",
              "      <td>2000-01-06</td>\n",
              "      <td>2.196</td>\n",
              "      <td>282.4</td>\n",
              "      <td>24.78</td>\n",
              "      <td>23.62</td>\n",
              "      <td>468.00</td>\n",
              "      <td>203.75</td>\n",
              "      <td>0.8530</td>\n",
              "      <td>5.167</td>\n",
              "      <td>211.25</td>\n",
              "      <td>...</td>\n",
              "      <td>1212.00</td>\n",
              "      <td>66.28</td>\n",
              "      <td>8252.0</td>\n",
              "      <td>248.50</td>\n",
              "      <td>5.77</td>\n",
              "      <td>NaN</td>\n",
              "      <td>116.85</td>\n",
              "      <td>55.175</td>\n",
              "      <td>275.00</td>\n",
              "      <td>52.08</td>\n",
              "    </tr>\n",
              "    <tr>\n",
              "      <th>4</th>\n",
              "      <td>2000-01-07</td>\n",
              "      <td>2.173</td>\n",
              "      <td>282.9</td>\n",
              "      <td>24.22</td>\n",
              "      <td>23.09</td>\n",
              "      <td>471.50</td>\n",
              "      <td>207.00</td>\n",
              "      <td>0.8540</td>\n",
              "      <td>5.195</td>\n",
              "      <td>205.25</td>\n",
              "      <td>...</td>\n",
              "      <td>1209.25</td>\n",
              "      <td>64.75</td>\n",
              "      <td>8174.0</td>\n",
              "      <td>251.75</td>\n",
              "      <td>5.84</td>\n",
              "      <td>NaN</td>\n",
              "      <td>114.15</td>\n",
              "      <td>55.625</td>\n",
              "      <td>277.75</td>\n",
              "      <td>53.96</td>\n",
              "    </tr>\n",
              "    <tr>\n",
              "      <th>5</th>\n",
              "      <td>2000-01-10</td>\n",
              "      <td>2.216</td>\n",
              "      <td>282.7</td>\n",
              "      <td>24.67</td>\n",
              "      <td>23.73</td>\n",
              "      <td>466.25</td>\n",
              "      <td>208.50</td>\n",
              "      <td>0.8465</td>\n",
              "      <td>5.190</td>\n",
              "      <td>196.00</td>\n",
              "      <td>...</td>\n",
              "      <td>1196.75</td>\n",
              "      <td>64.72</td>\n",
              "      <td>8130.0</td>\n",
              "      <td>253.50</td>\n",
              "      <td>5.83</td>\n",
              "      <td>NaN</td>\n",
              "      <td>117.55</td>\n",
              "      <td>55.650</td>\n",
              "      <td>279.75</td>\n",
              "      <td>53.56</td>\n",
              "    </tr>\n",
              "    <tr>\n",
              "      <th>6</th>\n",
              "      <td>2000-01-11</td>\n",
              "      <td>2.260</td>\n",
              "      <td>284.4</td>\n",
              "      <td>25.77</td>\n",
              "      <td>24.62</td>\n",
              "      <td>467.00</td>\n",
              "      <td>207.25</td>\n",
              "      <td>0.8435</td>\n",
              "      <td>5.195</td>\n",
              "      <td>201.50</td>\n",
              "      <td>...</td>\n",
              "      <td>1185.00</td>\n",
              "      <td>66.75</td>\n",
              "      <td>8052.5</td>\n",
              "      <td>253.75</td>\n",
              "      <td>5.67</td>\n",
              "      <td>NaN</td>\n",
              "      <td>117.80</td>\n",
              "      <td>56.025</td>\n",
              "      <td>280.00</td>\n",
              "      <td>54.18</td>\n",
              "    </tr>\n",
              "    <tr>\n",
              "      <th>7</th>\n",
              "      <td>2000-01-12</td>\n",
              "      <td>2.244</td>\n",
              "      <td>283.7</td>\n",
              "      <td>26.28</td>\n",
              "      <td>24.81</td>\n",
              "      <td>472.50</td>\n",
              "      <td>215.50</td>\n",
              "      <td>0.8660</td>\n",
              "      <td>5.143</td>\n",
              "      <td>201.50</td>\n",
              "      <td>...</td>\n",
              "      <td>1195.75</td>\n",
              "      <td>68.47</td>\n",
              "      <td>8191.0</td>\n",
              "      <td>258.75</td>\n",
              "      <td>5.45</td>\n",
              "      <td>NaN</td>\n",
              "      <td>118.95</td>\n",
              "      <td>54.800</td>\n",
              "      <td>285.75</td>\n",
              "      <td>53.72</td>\n",
              "    </tr>\n",
              "    <tr>\n",
              "      <th>8</th>\n",
              "      <td>2000-01-13</td>\n",
              "      <td>2.252</td>\n",
              "      <td>285.1</td>\n",
              "      <td>26.69</td>\n",
              "      <td>24.98</td>\n",
              "      <td>481.75</td>\n",
              "      <td>220.75</td>\n",
              "      <td>0.8565</td>\n",
              "      <td>5.153</td>\n",
              "      <td>208.25</td>\n",
              "      <td>...</td>\n",
              "      <td>1194.00</td>\n",
              "      <td>69.28</td>\n",
              "      <td>8107.0</td>\n",
              "      <td>263.50</td>\n",
              "      <td>5.49</td>\n",
              "      <td>NaN</td>\n",
              "      <td>118.55</td>\n",
              "      <td>54.825</td>\n",
              "      <td>290.00</td>\n",
              "      <td>54.75</td>\n",
              "    </tr>\n",
              "    <tr>\n",
              "      <th>9</th>\n",
              "      <td>2000-01-14</td>\n",
              "      <td>2.322</td>\n",
              "      <td>284.9</td>\n",
              "      <td>28.02</td>\n",
              "      <td>25.47</td>\n",
              "      <td>485.50</td>\n",
              "      <td>219.00</td>\n",
              "      <td>0.8625</td>\n",
              "      <td>5.150</td>\n",
              "      <td>213.75</td>\n",
              "      <td>...</td>\n",
              "      <td>1195.75</td>\n",
              "      <td>73.81</td>\n",
              "      <td>8125.0</td>\n",
              "      <td>265.00</td>\n",
              "      <td>5.45</td>\n",
              "      <td>NaN</td>\n",
              "      <td>112.55</td>\n",
              "      <td>56.150</td>\n",
              "      <td>293.00</td>\n",
              "      <td>55.12</td>\n",
              "    </tr>\n",
              "    <tr>\n",
              "      <th>10</th>\n",
              "      <td>2000-01-17</td>\n",
              "      <td>2.322</td>\n",
              "      <td>284.9</td>\n",
              "      <td>28.02</td>\n",
              "      <td>25.65</td>\n",
              "      <td>485.50</td>\n",
              "      <td>219.00</td>\n",
              "      <td>0.8625</td>\n",
              "      <td>5.150</td>\n",
              "      <td>220.50</td>\n",
              "      <td>...</td>\n",
              "      <td>1195.75</td>\n",
              "      <td>73.81</td>\n",
              "      <td>8125.0</td>\n",
              "      <td>265.00</td>\n",
              "      <td>5.45</td>\n",
              "      <td>NaN</td>\n",
              "      <td>112.55</td>\n",
              "      <td>56.150</td>\n",
              "      <td>293.00</td>\n",
              "      <td>55.12</td>\n",
              "    </tr>\n",
              "    <tr>\n",
              "      <th>11</th>\n",
              "      <td>2000-01-18</td>\n",
              "      <td>2.383</td>\n",
              "      <td>289.6</td>\n",
              "      <td>28.85</td>\n",
              "      <td>26.05</td>\n",
              "      <td>502.25</td>\n",
              "      <td>220.00</td>\n",
              "      <td>0.8660</td>\n",
              "      <td>5.165</td>\n",
              "      <td>221.00</td>\n",
              "      <td>...</td>\n",
              "      <td>1195.75</td>\n",
              "      <td>77.04</td>\n",
              "      <td>8125.0</td>\n",
              "      <td>264.50</td>\n",
              "      <td>5.29</td>\n",
              "      <td>NaN</td>\n",
              "      <td>115.75</td>\n",
              "      <td>55.550</td>\n",
              "      <td>292.00</td>\n",
              "      <td>54.76</td>\n",
              "    </tr>\n",
              "    <tr>\n",
              "      <th>12</th>\n",
              "      <td>2000-01-19</td>\n",
              "      <td>2.417</td>\n",
              "      <td>290.3</td>\n",
              "      <td>29.54</td>\n",
              "      <td>25.84</td>\n",
              "      <td>501.00</td>\n",
              "      <td>220.75</td>\n",
              "      <td>0.8825</td>\n",
              "      <td>5.173</td>\n",
              "      <td>221.25</td>\n",
              "      <td>...</td>\n",
              "      <td>1207.25</td>\n",
              "      <td>80.03</td>\n",
              "      <td>8388.0</td>\n",
              "      <td>266.00</td>\n",
              "      <td>5.49</td>\n",
              "      <td>NaN</td>\n",
              "      <td>116.70</td>\n",
              "      <td>56.000</td>\n",
              "      <td>293.50</td>\n",
              "      <td>57.75</td>\n",
              "    </tr>\n",
              "    <tr>\n",
              "      <th>13</th>\n",
              "      <td>2000-01-20</td>\n",
              "      <td>2.559</td>\n",
              "      <td>289.3</td>\n",
              "      <td>29.66</td>\n",
              "      <td>26.10</td>\n",
              "      <td>505.50</td>\n",
              "      <td>220.75</td>\n",
              "      <td>0.8730</td>\n",
              "      <td>5.257</td>\n",
              "      <td>227.75</td>\n",
              "      <td>...</td>\n",
              "      <td>1194.50</td>\n",
              "      <td>86.46</td>\n",
              "      <td>8363.0</td>\n",
              "      <td>265.00</td>\n",
              "      <td>5.56</td>\n",
              "      <td>NaN</td>\n",
              "      <td>112.00</td>\n",
              "      <td>56.225</td>\n",
              "      <td>292.75</td>\n",
              "      <td>57.44</td>\n",
              "    </tr>\n",
              "    <tr>\n",
              "      <th>14</th>\n",
              "      <td>2000-01-21</td>\n",
              "      <td>2.485</td>\n",
              "      <td>289.7</td>\n",
              "      <td>28.20</td>\n",
              "      <td>26.35</td>\n",
              "      <td>505.25</td>\n",
              "      <td>222.75</td>\n",
              "      <td>0.8730</td>\n",
              "      <td>5.260</td>\n",
              "      <td>235.25</td>\n",
              "      <td>...</td>\n",
              "      <td>1190.75</td>\n",
              "      <td>93.50</td>\n",
              "      <td>8495.0</td>\n",
              "      <td>264.25</td>\n",
              "      <td>5.43</td>\n",
              "      <td>NaN</td>\n",
              "      <td>111.20</td>\n",
              "      <td>57.075</td>\n",
              "      <td>293.00</td>\n",
              "      <td>56.15</td>\n",
              "    </tr>\n",
              "    <tr>\n",
              "      <th>15</th>\n",
              "      <td>2000-01-24</td>\n",
              "      <td>2.528</td>\n",
              "      <td>288.1</td>\n",
              "      <td>27.83</td>\n",
              "      <td>26.06</td>\n",
              "      <td>512.00</td>\n",
              "      <td>227.25</td>\n",
              "      <td>0.8565</td>\n",
              "      <td>5.293</td>\n",
              "      <td>225.50</td>\n",
              "      <td>...</td>\n",
              "      <td>1176.75</td>\n",
              "      <td>86.35</td>\n",
              "      <td>8444.0</td>\n",
              "      <td>266.00</td>\n",
              "      <td>5.29</td>\n",
              "      <td>NaN</td>\n",
              "      <td>111.90</td>\n",
              "      <td>56.525</td>\n",
              "      <td>294.50</td>\n",
              "      <td>56.35</td>\n",
              "    </tr>\n",
              "    <tr>\n",
              "      <th>16</th>\n",
              "      <td>2000-01-25</td>\n",
              "      <td>2.616</td>\n",
              "      <td>286.6</td>\n",
              "      <td>28.28</td>\n",
              "      <td>26.54</td>\n",
              "      <td>517.00</td>\n",
              "      <td>227.50</td>\n",
              "      <td>0.8425</td>\n",
              "      <td>5.315</td>\n",
              "      <td>226.00</td>\n",
              "      <td>...</td>\n",
              "      <td>1144.50</td>\n",
              "      <td>90.38</td>\n",
              "      <td>8446.0</td>\n",
              "      <td>264.75</td>\n",
              "      <td>5.32</td>\n",
              "      <td>NaN</td>\n",
              "      <td>112.85</td>\n",
              "      <td>56.100</td>\n",
              "      <td>293.50</td>\n",
              "      <td>57.86</td>\n",
              "    </tr>\n",
              "    <tr>\n",
              "      <th>17</th>\n",
              "      <td>2000-01-26</td>\n",
              "      <td>2.523</td>\n",
              "      <td>286.5</td>\n",
              "      <td>27.84</td>\n",
              "      <td>26.13</td>\n",
              "      <td>513.25</td>\n",
              "      <td>223.00</td>\n",
              "      <td>0.8415</td>\n",
              "      <td>5.283</td>\n",
              "      <td>227.50</td>\n",
              "      <td>...</td>\n",
              "      <td>1135.50</td>\n",
              "      <td>92.13</td>\n",
              "      <td>8401.0</td>\n",
              "      <td>260.00</td>\n",
              "      <td>5.40</td>\n",
              "      <td>NaN</td>\n",
              "      <td>115.15</td>\n",
              "      <td>56.225</td>\n",
              "      <td>288.25</td>\n",
              "      <td>57.42</td>\n",
              "    </tr>\n",
              "    <tr>\n",
              "      <th>18</th>\n",
              "      <td>2000-01-27</td>\n",
              "      <td>2.610</td>\n",
              "      <td>287.1</td>\n",
              "      <td>27.32</td>\n",
              "      <td>25.62</td>\n",
              "      <td>527.00</td>\n",
              "      <td>225.75</td>\n",
              "      <td>0.8445</td>\n",
              "      <td>5.415</td>\n",
              "      <td>222.00</td>\n",
              "      <td>...</td>\n",
              "      <td>1139.50</td>\n",
              "      <td>91.17</td>\n",
              "      <td>8502.0</td>\n",
              "      <td>263.50</td>\n",
              "      <td>5.41</td>\n",
              "      <td>NaN</td>\n",
              "      <td>114.60</td>\n",
              "      <td>56.100</td>\n",
              "      <td>290.75</td>\n",
              "      <td>57.53</td>\n",
              "    </tr>\n",
              "    <tr>\n",
              "      <th>19</th>\n",
              "      <td>2000-01-28</td>\n",
              "      <td>2.532</td>\n",
              "      <td>283.0</td>\n",
              "      <td>27.22</td>\n",
              "      <td>25.68</td>\n",
              "      <td>523.50</td>\n",
              "      <td>223.50</td>\n",
              "      <td>0.8350</td>\n",
              "      <td>5.327</td>\n",
              "      <td>218.25</td>\n",
              "      <td>...</td>\n",
              "      <td>1137.00</td>\n",
              "      <td>92.51</td>\n",
              "      <td>8635.0</td>\n",
              "      <td>259.75</td>\n",
              "      <td>5.47</td>\n",
              "      <td>NaN</td>\n",
              "      <td>114.70</td>\n",
              "      <td>57.000</td>\n",
              "      <td>287.75</td>\n",
              "      <td>57.45</td>\n",
              "    </tr>\n",
              "  </tbody>\n",
              "</table>\n",
              "<p>20 rows × 24 columns</p>\n",
              "</div>\n",
              "      <button class=\"colab-df-convert\" onclick=\"convertToInteractive('df-f46e6bf3-9f3a-4313-bda3-9579d5de9ee3')\"\n",
              "              title=\"Convert this dataframe to an interactive table.\"\n",
              "              style=\"display:none;\">\n",
              "        \n",
              "  <svg xmlns=\"http://www.w3.org/2000/svg\" height=\"24px\"viewBox=\"0 0 24 24\"\n",
              "       width=\"24px\">\n",
              "    <path d=\"M0 0h24v24H0V0z\" fill=\"none\"/>\n",
              "    <path d=\"M18.56 5.44l.94 2.06.94-2.06 2.06-.94-2.06-.94-.94-2.06-.94 2.06-2.06.94zm-11 1L8.5 8.5l.94-2.06 2.06-.94-2.06-.94L8.5 2.5l-.94 2.06-2.06.94zm10 10l.94 2.06.94-2.06 2.06-.94-2.06-.94-.94-2.06-.94 2.06-2.06.94z\"/><path d=\"M17.41 7.96l-1.37-1.37c-.4-.4-.92-.59-1.43-.59-.52 0-1.04.2-1.43.59L10.3 9.45l-7.72 7.72c-.78.78-.78 2.05 0 2.83L4 21.41c.39.39.9.59 1.41.59.51 0 1.02-.2 1.41-.59l7.78-7.78 2.81-2.81c.8-.78.8-2.07 0-2.86zM5.41 20L4 18.59l7.72-7.72 1.47 1.35L5.41 20z\"/>\n",
              "  </svg>\n",
              "      </button>\n",
              "      \n",
              "  <style>\n",
              "    .colab-df-container {\n",
              "      display:flex;\n",
              "      flex-wrap:wrap;\n",
              "      gap: 12px;\n",
              "    }\n",
              "\n",
              "    .colab-df-convert {\n",
              "      background-color: #E8F0FE;\n",
              "      border: none;\n",
              "      border-radius: 50%;\n",
              "      cursor: pointer;\n",
              "      display: none;\n",
              "      fill: #1967D2;\n",
              "      height: 32px;\n",
              "      padding: 0 0 0 0;\n",
              "      width: 32px;\n",
              "    }\n",
              "\n",
              "    .colab-df-convert:hover {\n",
              "      background-color: #E2EBFA;\n",
              "      box-shadow: 0px 1px 2px rgba(60, 64, 67, 0.3), 0px 1px 3px 1px rgba(60, 64, 67, 0.15);\n",
              "      fill: #174EA6;\n",
              "    }\n",
              "\n",
              "    [theme=dark] .colab-df-convert {\n",
              "      background-color: #3B4455;\n",
              "      fill: #D2E3FC;\n",
              "    }\n",
              "\n",
              "    [theme=dark] .colab-df-convert:hover {\n",
              "      background-color: #434B5C;\n",
              "      box-shadow: 0px 1px 3px 1px rgba(0, 0, 0, 0.15);\n",
              "      filter: drop-shadow(0px 1px 2px rgba(0, 0, 0, 0.3));\n",
              "      fill: #FFFFFF;\n",
              "    }\n",
              "  </style>\n",
              "\n",
              "      <script>\n",
              "        const buttonEl =\n",
              "          document.querySelector('#df-f46e6bf3-9f3a-4313-bda3-9579d5de9ee3 button.colab-df-convert');\n",
              "        buttonEl.style.display =\n",
              "          google.colab.kernel.accessAllowed ? 'block' : 'none';\n",
              "\n",
              "        async function convertToInteractive(key) {\n",
              "          const element = document.querySelector('#df-f46e6bf3-9f3a-4313-bda3-9579d5de9ee3');\n",
              "          const dataTable =\n",
              "            await google.colab.kernel.invokeFunction('convertToInteractive',\n",
              "                                                     [key], {});\n",
              "          if (!dataTable) return;\n",
              "\n",
              "          const docLinkHtml = 'Like what you see? Visit the ' +\n",
              "            '<a target=\"_blank\" href=https://colab.research.google.com/notebooks/data_table.ipynb>data table notebook</a>'\n",
              "            + ' to learn more about interactive tables.';\n",
              "          element.innerHTML = '';\n",
              "          dataTable['output_type'] = 'display_data';\n",
              "          await google.colab.output.renderOutput(dataTable, element);\n",
              "          const docLink = document.createElement('div');\n",
              "          docLink.innerHTML = docLinkHtml;\n",
              "          element.appendChild(docLink);\n",
              "        }\n",
              "      </script>\n",
              "    </div>\n",
              "  </div>\n",
              "  "
            ]
          },
          "metadata": {},
          "execution_count": 44
        }
      ],
      "source": [
        "import pandas as pd\n",
        "df = pd.read_csv('/content/commodity-prices/commodity_futures.csv')\n",
        "df.head(20)"
      ]
    },
    {
      "cell_type": "code",
      "source": [
        "df.info()"
      ],
      "metadata": {
        "colab": {
          "base_uri": "https://localhost:8080/"
        },
        "id": "gJAQNrhC-XQ9",
        "outputId": "436b8256-b1ea-47f3-bae8-dc85c265df5d"
      },
      "execution_count": null,
      "outputs": [
        {
          "output_type": "stream",
          "name": "stdout",
          "text": [
            "<class 'pandas.core.frame.DataFrame'>\n",
            "RangeIndex: 5888 entries, 0 to 5887\n",
            "Data columns (total 24 columns):\n",
            " #   Column               Non-Null Count  Dtype  \n",
            "---  ------               --------------  -----  \n",
            " 0   Date                 5888 non-null   object \n",
            " 1   NATURAL GAS          5887 non-null   float64\n",
            " 2   GOLD                 5887 non-null   float64\n",
            " 3   WTI CRUDE            5887 non-null   float64\n",
            " 4   BRENT CRUDE          5887 non-null   float64\n",
            " 5   SOYBEANS             5888 non-null   float64\n",
            " 6   CORN                 5888 non-null   float64\n",
            " 7   COPPER               5887 non-null   float64\n",
            " 8   SILVER               5887 non-null   float64\n",
            " 9   LOW SULPHUR GAS OIL  5887 non-null   float64\n",
            " 10  LIVE CATTLE          5888 non-null   float64\n",
            " 11  SOYBEAN OIL          5888 non-null   float64\n",
            " 12  ALUMINIUM            5887 non-null   float64\n",
            " 13  SOYBEAN MEAL         5888 non-null   float64\n",
            " 14  ZINC                 5888 non-null   float64\n",
            " 15  ULS DIESEL           5887 non-null   float64\n",
            " 16  NICKEL               5888 non-null   float64\n",
            " 17  WHEAT                5888 non-null   float64\n",
            " 18  SUGAR                5888 non-null   float64\n",
            " 19  GASOLINE             4405 non-null   float64\n",
            " 20  COFFEE               5888 non-null   float64\n",
            " 21  LEAN HOGS            5888 non-null   float64\n",
            " 22  HRW WHEAT            5888 non-null   float64\n",
            " 23  COTTON               5888 non-null   float64\n",
            "dtypes: float64(23), object(1)\n",
            "memory usage: 1.1+ MB\n"
          ]
        }
      ]
    },
    {
      "cell_type": "code",
      "source": [
        "df.isnull().sum()"
      ],
      "metadata": {
        "colab": {
          "base_uri": "https://localhost:8080/"
        },
        "id": "A9ZtjrUHEFv7",
        "outputId": "24462f27-330b-4bb5-cd6b-19f3bcc6bc5b"
      },
      "execution_count": null,
      "outputs": [
        {
          "output_type": "execute_result",
          "data": {
            "text/plain": [
              "Date                      0\n",
              "NATURAL GAS               1\n",
              "GOLD                      1\n",
              "WTI CRUDE                 1\n",
              "BRENT CRUDE               1\n",
              "SOYBEANS                  0\n",
              "CORN                      0\n",
              "COPPER                    1\n",
              "SILVER                    1\n",
              "LOW SULPHUR GAS OIL       1\n",
              "LIVE CATTLE               0\n",
              "SOYBEAN OIL               0\n",
              "ALUMINIUM                 1\n",
              "SOYBEAN MEAL              0\n",
              "ZINC                      0\n",
              "ULS DIESEL                1\n",
              "NICKEL                    0\n",
              "WHEAT                     0\n",
              "SUGAR                     0\n",
              "GASOLINE               1483\n",
              "COFFEE                    0\n",
              "LEAN HOGS                 0\n",
              "HRW WHEAT                 0\n",
              "COTTON                    0\n",
              "dtype: int64"
            ]
          },
          "metadata": {},
          "execution_count": 48
        }
      ]
    },
    {
      "cell_type": "code",
      "execution_count": null,
      "metadata": {
        "colab": {
          "base_uri": "https://localhost:8080/"
        },
        "id": "nzBq1AqHgkZ_",
        "outputId": "eea27611-bb0b-4e5e-a58d-da5a863c7ade"
      },
      "outputs": [
        {
          "output_type": "stream",
          "name": "stdout",
          "text": [
            "<class 'pandas.core.frame.DataFrame'>\n",
            "RangeIndex: 5888 entries, 0 to 5887\n",
            "Data columns (total 2 columns):\n",
            " #   Column   Non-Null Count  Dtype  \n",
            "---  ------   --------------  -----  \n",
            " 0   tanggal  5888 non-null   object \n",
            " 1   jagung   5888 non-null   float64\n",
            "dtypes: float64(1), object(1)\n",
            "memory usage: 92.1+ KB\n"
          ]
        }
      ],
      "source": [
        "new_df = df[[\"Date\",\"CORN\"]]\n",
        "new_df.columns = [\"tanggal\", \"jagung\"]\n",
        "new_df.info()"
      ]
    },
    {
      "cell_type": "code",
      "source": [
        "new_df['tanggal'] =  pd.to_datetime(new_df['tanggal'], format='%Y/%m/%d')"
      ],
      "metadata": {
        "colab": {
          "base_uri": "https://localhost:8080/"
        },
        "id": "_B8lb6RD_PT1",
        "outputId": "4f2517e7-af85-4e05-cc0c-009c8f11a085"
      },
      "execution_count": null,
      "outputs": [
        {
          "output_type": "stream",
          "name": "stderr",
          "text": [
            "/usr/local/lib/python3.7/dist-packages/ipykernel_launcher.py:1: SettingWithCopyWarning: \n",
            "A value is trying to be set on a copy of a slice from a DataFrame.\n",
            "Try using .loc[row_indexer,col_indexer] = value instead\n",
            "\n",
            "See the caveats in the documentation: https://pandas.pydata.org/pandas-docs/stable/user_guide/indexing.html#returning-a-view-versus-a-copy\n",
            "  \"\"\"Entry point for launching an IPython kernel.\n"
          ]
        }
      ]
    },
    {
      "cell_type": "code",
      "source": [
        "tahun = new_df['tanggal'].values\n",
        "jagung = new_df['jagung'].values"
      ],
      "metadata": {
        "id": "_PIyKr4G_U4R"
      },
      "execution_count": null,
      "outputs": []
    },
    {
      "cell_type": "code",
      "source": [
        "import matplotlib.pyplot as plt\n",
        "\n",
        "plt.figure(figsize=(20,5))\n",
        "plt.xlabel('Date')\n",
        "plt.ylabel('jagung')\n",
        "plt.plot(tahun, jagung)\n",
        "plt.show()"
      ],
      "metadata": {
        "colab": {
          "base_uri": "https://localhost:8080/",
          "height": 319
        },
        "id": "M8MfWTAg_ZwZ",
        "outputId": "25d78fd9-0ed3-47a1-f486-3401212a261b"
      },
      "execution_count": null,
      "outputs": [
        {
          "output_type": "display_data",
          "data": {
            "text/plain": [
              "<Figure size 1440x360 with 1 Axes>"
            ],
            "image/png": "[encoded data removed]"
          },
          "metadata": {
            "needs_background": "light"
          }
        }
      ]
    },
    {
      "cell_type": "code",
      "source": [
        "tahun = new_df[('tanggal')].values.astype(\"float64\")"
      ],
      "metadata": {
        "id": "uUbpiaE1Ft30"
      },
      "execution_count": null,
      "outputs": []
    },
    {
      "cell_type": "code",
      "source": [
        "tahun"
      ],
      "metadata": {
        "colab": {
          "base_uri": "https://localhost:8080/"
        },
        "id": "XaTRevDUGHxO",
        "outputId": "fd17104d-7019-421a-8869-4d9c967bcae1"
      },
      "execution_count": null,
      "outputs": [
        {
          "output_type": "execute_result",
          "data": {
            "text/plain": [
              "array([9.4685760e+17, 9.4694400e+17, 9.4703040e+17, ..., 1.6661376e+18,\n",
              "       1.6662240e+18, 1.6663104e+18])"
            ]
          },
          "metadata": {},
          "execution_count": 61
        }
      ]
    },
    {
      "cell_type": "code",
      "source": [
        "tahun_reshape = tahun.reshape(-1,1)\n",
        "jagung_reshape = jagung.reshape(-1,1)"
      ],
      "metadata": {
        "id": "IwjYk_JjGEkL"
      },
      "execution_count": null,
      "outputs": []
    },
    {
      "cell_type": "code",
      "source": [
        "jagung_reshape"
      ],
      "metadata": {
        "colab": {
          "base_uri": "https://localhost:8080/"
        },
        "id": "0Wy4fsQoGQ-A",
        "outputId": "8f1571f6-14c2-4204-e2ad-4c92a4028b36"
      },
      "execution_count": null,
      "outputs": [
        {
          "output_type": "execute_result",
          "data": {
            "text/plain": [
              "array([[200.75],\n",
              "       [203.  ],\n",
              "       [203.  ],\n",
              "       ...,\n",
              "       [678.25],\n",
              "       [684.  ],\n",
              "       [685.75]])"
            ]
          },
          "metadata": {},
          "execution_count": 65
        }
      ]
    },
    {
      "cell_type": "code",
      "source": [
        "from sklearn.preprocessing import StandardScaler\n",
        "\n",
        "standard_scaler = StandardScaler()\n",
        "tahun = standard_scaler.fit_transform(tahun_reshape)\n",
        "jagung = standard_scaler.fit_transform(jagung_reshape)"
      ],
      "metadata": {
        "id": "Avn-F_QbGgi6"
      },
      "execution_count": null,
      "outputs": []
    },
    {
      "cell_type": "code",
      "source": [
        "tahun = tahun.flatten()\n",
        "jagung = jagung.flatten()"
      ],
      "metadata": {
        "id": "UHFqzcFxGqZE"
      },
      "execution_count": null,
      "outputs": []
    },
    {
      "cell_type": "code",
      "source": [
        "from sklearn.model_selection import train_test_split\n",
        "\n",
        "x_train, x_test, y_train, y_test = train_test_split(tahun, jagung, test_size = 0.2, shuffle = False)"
      ],
      "metadata": {
        "id": "pIcFH57jGuY-"
      },
      "execution_count": null,
      "outputs": []
    },
    {
      "cell_type": "code",
      "source": [
        "print(len(x_train))\n",
        "print(len(x_test))"
      ],
      "metadata": {
        "colab": {
          "base_uri": "https://localhost:8080/"
        },
        "id": "ELGP_HGXG9v9",
        "outputId": "3dced6c5-e966-42d7-eba5-35423aaa9268"
      },
      "execution_count": null,
      "outputs": [
        {
          "output_type": "stream",
          "name": "stdout",
          "text": [
            "4710\n",
            "1178\n"
          ]
        }
      ]
    },
    {
      "cell_type": "code",
      "source": [
        "def windowed_dataset(series, window_size, batch_size, shuffle_buffer):\n",
        "    series = tf.expand_dims(series, axis=-1)\n",
        "    ds = tf.data.Dataset.from_tensor_slices(series)\n",
        "    ds = ds.window(window_size + 1, shift=1, drop_remainder=True)\n",
        "    ds = ds.flat_map(lambda w: w.batch(window_size + 1))\n",
        "    ds = ds.shuffle(shuffle_buffer)\n",
        "    ds = ds.map(lambda w: (w[:-1], w[-1:]))\n",
        "    return ds.batch(batch_size).prefetch(1)"
      ],
      "metadata": {
        "id": "Wr66JoHtG_p_"
      },
      "execution_count": null,
      "outputs": []
    },
    {
      "cell_type": "code",
      "source": [
        "import tensorflow as tf\n",
        "\n",
        "train_set = windowed_dataset(y_train, window_size=30, batch_size=100, shuffle_buffer=1000)\n",
        "val_test = windowed_dataset(y_test, window_size=30, batch_size=100, shuffle_buffer=1000)"
      ],
      "metadata": {
        "id": "kLgAvf6JHHpe"
      },
      "execution_count": null,
      "outputs": []
    },
    {
      "cell_type": "code",
      "source": [
        "from keras.layers import Dense\n",
        "from keras.layers import LSTM, Bidirectional\n",
        "\n",
        "model = tf.keras.models.Sequential([\n",
        "    tf.keras.layers.LSTM(64, return_sequences=True),\n",
        "    tf.keras.layers.Dropout(0.5),\n",
        "    tf.keras.layers.LSTM(64, return_sequences=True),\n",
        "    tf.keras.layers.Dropout(0.5),\n",
        "    tf.keras.layers.Bidirectional(tf.keras.layers.LSTM(64)),\n",
        "    tf.keras.layers.Dense(64, activation=\"relu\"),\n",
        "    tf.keras.layers.Dropout(0.5),\n",
        "    tf.keras.layers.Dense(32, activation=\"relu\"),\n",
        "    tf.keras.layers.Dense(10, activation=\"relu\"),\n",
        "    tf.keras.layers.Dense(1),\n",
        "])"
      ],
      "metadata": {
        "id": "N8kNI-YjHKOx"
      },
      "execution_count": null,
      "outputs": []
    },
    {
      "cell_type": "code",
      "source": [
        "optimizer = tf.keras.optimizers.SGD(lr = 1.0000e-04, momentum = 0.9)\n",
        "\n",
        "model.compile(loss = tf.keras.losses.Huber(),\n",
        "              optimizer = optimizer,\n",
        "              metrics = [\"mae\"])"
      ],
      "metadata": {
        "colab": {
          "base_uri": "https://localhost:8080/"
        },
        "id": "mL9kuz7uHdLZ",
        "outputId": "54f9b46c-2d3e-41ef-cad8-7a5914de0931"
      },
      "execution_count": null,
      "outputs": [
        {
          "output_type": "stream",
          "name": "stderr",
          "text": [
            "/usr/local/lib/python3.7/dist-packages/keras/optimizers/optimizer_v2/gradient_descent.py:108: UserWarning: The `lr` argument is deprecated, use `learning_rate` instead.\n",
            "  super(SGD, self).__init__(name, **kwargs)\n"
          ]
        }
      ]
    },
    {
      "cell_type": "code",
      "source": [
        "threshold = (jagung.max() - jagung.min()) * 10/100\n",
        "print(threshold)"
      ],
      "metadata": {
        "colab": {
          "base_uri": "https://localhost:8080/"
        },
        "id": "YnOFFC3aHhCV",
        "outputId": "97bc3855-18a2-4f33-aaf4-4d17ac9baa43"
      },
      "execution_count": null,
      "outputs": [
        {
          "output_type": "stream",
          "name": "stdout",
          "text": [
            "0.40450721182331684\n"
          ]
        }
      ]
    },
    {
      "cell_type": "code",
      "source": [
        "history = model.fit(train_set,\n",
        "                    epochs = 100,\n",
        "                    validation_data = val_test,\n",
        "                    verbose=2)"
      ],
      "metadata": {
        "colab": {
          "base_uri": "https://localhost:8080/"
        },
        "id": "It8Le5NUHl0A",
        "outputId": "a0a86eaf-1ec3-4f37-ee1f-e693be8cf087"
      },
      "execution_count": null,
      "outputs": [
        {
          "output_type": "stream",
          "name": "stdout",
          "text": [
            "Epoch 1/100\n",
            "47/47 - 20s - loss: 0.4333 - mae: 0.7913 - val_loss: 0.4119 - val_mae: 0.7127 - 20s/epoch - 430ms/step\n",
            "Epoch 2/100\n",
            "47/47 - 9s - loss: 0.4236 - mae: 0.7767 - val_loss: 0.4097 - val_mae: 0.7032 - 9s/epoch - 186ms/step\n",
            "Epoch 3/100\n",
            "47/47 - 9s - loss: 0.4129 - mae: 0.7613 - val_loss: 0.4070 - val_mae: 0.6942 - 9s/epoch - 195ms/step\n",
            "Epoch 4/100\n",
            "47/47 - 9s - loss: 0.4033 - mae: 0.7474 - val_loss: 0.4041 - val_mae: 0.6859 - 9s/epoch - 195ms/step\n",
            "Epoch 5/100\n",
            "47/47 - 9s - loss: 0.3938 - mae: 0.7344 - val_loss: 0.4009 - val_mae: 0.6784 - 9s/epoch - 195ms/step\n",
            "Epoch 6/100\n",
            "47/47 - 9s - loss: 0.3834 - mae: 0.7204 - val_loss: 0.3975 - val_mae: 0.6720 - 9s/epoch - 202ms/step\n",
            "Epoch 7/100\n",
            "47/47 - 9s - loss: 0.3751 - mae: 0.7103 - val_loss: 0.3935 - val_mae: 0.6660 - 9s/epoch - 197ms/step\n",
            "Epoch 8/100\n",
            "47/47 - 9s - loss: 0.3657 - mae: 0.6985 - val_loss: 0.3889 - val_mae: 0.6601 - 9s/epoch - 196ms/step\n",
            "Epoch 9/100\n",
            "47/47 - 10s - loss: 0.3577 - mae: 0.6886 - val_loss: 0.3837 - val_mae: 0.6538 - 10s/epoch - 204ms/step\n",
            "Epoch 10/100\n",
            "47/47 - 10s - loss: 0.3494 - mae: 0.6789 - val_loss: 0.3778 - val_mae: 0.6471 - 10s/epoch - 215ms/step\n",
            "Epoch 11/100\n",
            "47/47 - 10s - loss: 0.3408 - mae: 0.6685 - val_loss: 0.3715 - val_mae: 0.6399 - 10s/epoch - 215ms/step\n",
            "Epoch 12/100\n",
            "47/47 - 10s - loss: 0.3318 - mae: 0.6578 - val_loss: 0.3644 - val_mae: 0.6318 - 10s/epoch - 211ms/step\n",
            "Epoch 13/100\n",
            "47/47 - 10s - loss: 0.3229 - mae: 0.6469 - val_loss: 0.3566 - val_mae: 0.6227 - 10s/epoch - 214ms/step\n",
            "Epoch 14/100\n",
            "47/47 - 10s - loss: 0.3129 - mae: 0.6349 - val_loss: 0.3484 - val_mae: 0.6130 - 10s/epoch - 214ms/step\n",
            "Epoch 15/100\n",
            "47/47 - 11s - loss: 0.3055 - mae: 0.6242 - val_loss: 0.3397 - val_mae: 0.6027 - 11s/epoch - 242ms/step\n",
            "Epoch 16/100\n",
            "47/47 - 12s - loss: 0.2959 - mae: 0.6125 - val_loss: 0.3305 - val_mae: 0.5917 - 12s/epoch - 250ms/step\n",
            "Epoch 17/100\n",
            "47/47 - 10s - loss: 0.2860 - mae: 0.5992 - val_loss: 0.3204 - val_mae: 0.5794 - 10s/epoch - 220ms/step\n",
            "Epoch 18/100\n",
            "47/47 - 10s - loss: 0.2766 - mae: 0.5893 - val_loss: 0.3102 - val_mae: 0.5671 - 10s/epoch - 216ms/step\n",
            "Epoch 19/100\n",
            "47/47 - 10s - loss: 0.2678 - mae: 0.5771 - val_loss: 0.2995 - val_mae: 0.5540 - 10s/epoch - 220ms/step\n",
            "Epoch 20/100\n",
            "47/47 - 10s - loss: 0.2552 - mae: 0.5597 - val_loss: 0.2876 - val_mae: 0.5391 - 10s/epoch - 223ms/step\n",
            "Epoch 21/100\n",
            "47/47 - 10s - loss: 0.2459 - mae: 0.5465 - val_loss: 0.2753 - val_mae: 0.5235 - 10s/epoch - 222ms/step\n",
            "Epoch 22/100\n",
            "47/47 - 10s - loss: 0.2372 - mae: 0.5357 - val_loss: 0.2629 - val_mae: 0.5074 - 10s/epoch - 221ms/step\n",
            "Epoch 23/100\n",
            "47/47 - 11s - loss: 0.2248 - mae: 0.5181 - val_loss: 0.2500 - val_mae: 0.4903 - 11s/epoch - 231ms/step\n",
            "Epoch 24/100\n",
            "47/47 - 10s - loss: 0.2159 - mae: 0.5039 - val_loss: 0.2372 - val_mae: 0.4735 - 10s/epoch - 221ms/step\n",
            "Epoch 25/100\n",
            "47/47 - 10s - loss: 0.2052 - mae: 0.4909 - val_loss: 0.2250 - val_mae: 0.4571 - 10s/epoch - 218ms/step\n",
            "Epoch 26/100\n",
            "47/47 - 10s - loss: 0.1945 - mae: 0.4754 - val_loss: 0.2128 - val_mae: 0.4408 - 10s/epoch - 215ms/step\n",
            "Epoch 27/100\n",
            "47/47 - 10s - loss: 0.1863 - mae: 0.4622 - val_loss: 0.2005 - val_mae: 0.4249 - 10s/epoch - 214ms/step\n",
            "Epoch 28/100\n",
            "47/47 - 10s - loss: 0.1761 - mae: 0.4478 - val_loss: 0.1886 - val_mae: 0.4095 - 10s/epoch - 217ms/step\n",
            "Epoch 29/100\n",
            "47/47 - 10s - loss: 0.1665 - mae: 0.4307 - val_loss: 0.1762 - val_mae: 0.3932 - 10s/epoch - 215ms/step\n",
            "Epoch 30/100\n",
            "47/47 - 10s - loss: 0.1579 - mae: 0.4178 - val_loss: 0.1648 - val_mae: 0.3784 - 10s/epoch - 214ms/step\n",
            "Epoch 31/100\n",
            "47/47 - 10s - loss: 0.1511 - mae: 0.4093 - val_loss: 0.1538 - val_mae: 0.3642 - 10s/epoch - 212ms/step\n",
            "Epoch 32/100\n",
            "47/47 - 10s - loss: 0.1442 - mae: 0.3972 - val_loss: 0.1438 - val_mae: 0.3513 - 10s/epoch - 214ms/step\n",
            "Epoch 33/100\n",
            "47/47 - 10s - loss: 0.1373 - mae: 0.3857 - val_loss: 0.1342 - val_mae: 0.3387 - 10s/epoch - 222ms/step\n",
            "Epoch 34/100\n",
            "47/47 - 12s - loss: 0.1291 - mae: 0.3724 - val_loss: 0.1249 - val_mae: 0.3262 - 12s/epoch - 245ms/step\n",
            "Epoch 35/100\n",
            "47/47 - 10s - loss: 0.1218 - mae: 0.3641 - val_loss: 0.1165 - val_mae: 0.3147 - 10s/epoch - 218ms/step\n",
            "Epoch 36/100\n",
            "47/47 - 11s - loss: 0.1152 - mae: 0.3555 - val_loss: 0.1088 - val_mae: 0.3039 - 11s/epoch - 228ms/step\n",
            "Epoch 37/100\n",
            "47/47 - 10s - loss: 0.1125 - mae: 0.3492 - val_loss: 0.1023 - val_mae: 0.2951 - 10s/epoch - 215ms/step\n",
            "Epoch 38/100\n",
            "47/47 - 10s - loss: 0.1098 - mae: 0.3471 - val_loss: 0.0965 - val_mae: 0.2875 - 10s/epoch - 215ms/step\n",
            "Epoch 39/100\n",
            "47/47 - 10s - loss: 0.1044 - mae: 0.3364 - val_loss: 0.0910 - val_mae: 0.2810 - 10s/epoch - 215ms/step\n",
            "Epoch 40/100\n",
            "47/47 - 10s - loss: 0.1002 - mae: 0.3318 - val_loss: 0.0861 - val_mae: 0.2757 - 10s/epoch - 217ms/step\n",
            "Epoch 41/100\n",
            "47/47 - 10s - loss: 0.0967 - mae: 0.3272 - val_loss: 0.0816 - val_mae: 0.2712 - 10s/epoch - 216ms/step\n",
            "Epoch 42/100\n",
            "47/47 - 10s - loss: 0.0964 - mae: 0.3285 - val_loss: 0.0780 - val_mae: 0.2679 - 10s/epoch - 218ms/step\n",
            "Epoch 43/100\n",
            "47/47 - 10s - loss: 0.0930 - mae: 0.3223 - val_loss: 0.0750 - val_mae: 0.2652 - 10s/epoch - 219ms/step\n",
            "Epoch 44/100\n",
            "47/47 - 10s - loss: 0.0909 - mae: 0.3200 - val_loss: 0.0722 - val_mae: 0.2629 - 10s/epoch - 217ms/step\n",
            "Epoch 45/100\n",
            "47/47 - 10s - loss: 0.0918 - mae: 0.3190 - val_loss: 0.0698 - val_mae: 0.2608 - 10s/epoch - 222ms/step\n",
            "Epoch 46/100\n",
            "47/47 - 10s - loss: 0.0895 - mae: 0.3182 - val_loss: 0.0677 - val_mae: 0.2589 - 10s/epoch - 221ms/step\n",
            "Epoch 47/100\n",
            "47/47 - 10s - loss: 0.0885 - mae: 0.3140 - val_loss: 0.0659 - val_mae: 0.2571 - 10s/epoch - 222ms/step\n",
            "Epoch 48/100\n",
            "47/47 - 10s - loss: 0.0851 - mae: 0.3117 - val_loss: 0.0640 - val_mae: 0.2555 - 10s/epoch - 219ms/step\n",
            "Epoch 49/100\n",
            "47/47 - 10s - loss: 0.0868 - mae: 0.3124 - val_loss: 0.0626 - val_mae: 0.2543 - 10s/epoch - 219ms/step\n",
            "Epoch 50/100\n",
            "47/47 - 12s - loss: 0.0841 - mae: 0.3078 - val_loss: 0.0611 - val_mae: 0.2528 - 12s/epoch - 256ms/step\n",
            "Epoch 51/100\n",
            "47/47 - 10s - loss: 0.0817 - mae: 0.3053 - val_loss: 0.0601 - val_mae: 0.2521 - 10s/epoch - 216ms/step\n",
            "Epoch 52/100\n",
            "47/47 - 10s - loss: 0.0811 - mae: 0.3045 - val_loss: 0.0588 - val_mae: 0.2510 - 10s/epoch - 218ms/step\n",
            "Epoch 53/100\n",
            "47/47 - 10s - loss: 0.0813 - mae: 0.3035 - val_loss: 0.0580 - val_mae: 0.2504 - 10s/epoch - 216ms/step\n",
            "Epoch 54/100\n",
            "47/47 - 10s - loss: 0.0793 - mae: 0.3003 - val_loss: 0.0570 - val_mae: 0.2493 - 10s/epoch - 214ms/step\n",
            "Epoch 55/100\n",
            "47/47 - 10s - loss: 0.0827 - mae: 0.3084 - val_loss: 0.0560 - val_mae: 0.2481 - 10s/epoch - 217ms/step\n",
            "Epoch 56/100\n",
            "47/47 - 10s - loss: 0.0776 - mae: 0.2996 - val_loss: 0.0552 - val_mae: 0.2470 - 10s/epoch - 218ms/step\n",
            "Epoch 57/100\n",
            "47/47 - 10s - loss: 0.0815 - mae: 0.3037 - val_loss: 0.0546 - val_mae: 0.2459 - 10s/epoch - 217ms/step\n",
            "Epoch 58/100\n",
            "47/47 - 10s - loss: 0.0779 - mae: 0.2977 - val_loss: 0.0537 - val_mae: 0.2445 - 10s/epoch - 215ms/step\n",
            "Epoch 59/100\n",
            "47/47 - 10s - loss: 0.0763 - mae: 0.2947 - val_loss: 0.0528 - val_mae: 0.2428 - 10s/epoch - 217ms/step\n",
            "Epoch 60/100\n",
            "47/47 - 10s - loss: 0.0781 - mae: 0.2980 - val_loss: 0.0521 - val_mae: 0.2416 - 10s/epoch - 216ms/step\n",
            "Epoch 61/100\n",
            "47/47 - 10s - loss: 0.0786 - mae: 0.2997 - val_loss: 0.0514 - val_mae: 0.2401 - 10s/epoch - 215ms/step\n",
            "Epoch 62/100\n",
            "47/47 - 10s - loss: 0.0765 - mae: 0.2958 - val_loss: 0.0510 - val_mae: 0.2395 - 10s/epoch - 222ms/step\n",
            "Epoch 63/100\n",
            "47/47 - 10s - loss: 0.0736 - mae: 0.2907 - val_loss: 0.0504 - val_mae: 0.2386 - 10s/epoch - 215ms/step\n",
            "Epoch 64/100\n",
            "47/47 - 10s - loss: 0.0741 - mae: 0.2916 - val_loss: 0.0499 - val_mae: 0.2374 - 10s/epoch - 218ms/step\n",
            "Epoch 65/100\n",
            "47/47 - 10s - loss: 0.0736 - mae: 0.2894 - val_loss: 0.0492 - val_mae: 0.2361 - 10s/epoch - 216ms/step\n",
            "Epoch 66/100\n",
            "47/47 - 10s - loss: 0.0747 - mae: 0.2907 - val_loss: 0.0488 - val_mae: 0.2349 - 10s/epoch - 218ms/step\n",
            "Epoch 67/100\n",
            "47/47 - 13s - loss: 0.0739 - mae: 0.2904 - val_loss: 0.0484 - val_mae: 0.2343 - 13s/epoch - 273ms/step\n",
            "Epoch 68/100\n",
            "47/47 - 10s - loss: 0.0707 - mae: 0.2838 - val_loss: 0.0478 - val_mae: 0.2332 - 10s/epoch - 219ms/step\n",
            "Epoch 69/100\n",
            "47/47 - 11s - loss: 0.0694 - mae: 0.2813 - val_loss: 0.0474 - val_mae: 0.2328 - 11s/epoch - 228ms/step\n",
            "Epoch 70/100\n",
            "47/47 - 10s - loss: 0.0691 - mae: 0.2812 - val_loss: 0.0467 - val_mae: 0.2307 - 10s/epoch - 218ms/step\n",
            "Epoch 71/100\n",
            "47/47 - 11s - loss: 0.0687 - mae: 0.2807 - val_loss: 0.0462 - val_mae: 0.2290 - 11s/epoch - 230ms/step\n",
            "Epoch 72/100\n",
            "47/47 - 10s - loss: 0.0688 - mae: 0.2800 - val_loss: 0.0459 - val_mae: 0.2281 - 10s/epoch - 222ms/step\n",
            "Epoch 73/100\n",
            "47/47 - 10s - loss: 0.0697 - mae: 0.2813 - val_loss: 0.0454 - val_mae: 0.2268 - 10s/epoch - 222ms/step\n",
            "Epoch 74/100\n",
            "47/47 - 10s - loss: 0.0696 - mae: 0.2820 - val_loss: 0.0449 - val_mae: 0.2250 - 10s/epoch - 222ms/step\n",
            "Epoch 75/100\n",
            "47/47 - 11s - loss: 0.0674 - mae: 0.2780 - val_loss: 0.0446 - val_mae: 0.2245 - 11s/epoch - 225ms/step\n",
            "Epoch 76/100\n",
            "47/47 - 10s - loss: 0.0669 - mae: 0.2727 - val_loss: 0.0441 - val_mae: 0.2236 - 10s/epoch - 220ms/step\n",
            "Epoch 77/100\n",
            "47/47 - 11s - loss: 0.0669 - mae: 0.2745 - val_loss: 0.0439 - val_mae: 0.2228 - 11s/epoch - 227ms/step\n",
            "Epoch 78/100\n",
            "47/47 - 10s - loss: 0.0661 - mae: 0.2747 - val_loss: 0.0432 - val_mae: 0.2203 - 10s/epoch - 222ms/step\n",
            "Epoch 79/100\n",
            "47/47 - 11s - loss: 0.0635 - mae: 0.2690 - val_loss: 0.0428 - val_mae: 0.2195 - 11s/epoch - 230ms/step\n",
            "Epoch 80/100\n",
            "47/47 - 10s - loss: 0.0678 - mae: 0.2764 - val_loss: 0.0426 - val_mae: 0.2194 - 10s/epoch - 222ms/step\n",
            "Epoch 81/100\n",
            "47/47 - 12s - loss: 0.0645 - mae: 0.2715 - val_loss: 0.0423 - val_mae: 0.2182 - 12s/epoch - 254ms/step\n",
            "Epoch 82/100\n",
            "47/47 - 10s - loss: 0.0657 - mae: 0.2731 - val_loss: 0.0418 - val_mae: 0.2171 - 10s/epoch - 219ms/step\n",
            "Epoch 83/100\n",
            "47/47 - 10s - loss: 0.0663 - mae: 0.2738 - val_loss: 0.0412 - val_mae: 0.2150 - 10s/epoch - 220ms/step\n",
            "Epoch 84/100\n",
            "47/47 - 11s - loss: 0.0646 - mae: 0.2695 - val_loss: 0.0409 - val_mae: 0.2138 - 11s/epoch - 227ms/step\n",
            "Epoch 85/100\n",
            "47/47 - 10s - loss: 0.0642 - mae: 0.2708 - val_loss: 0.0406 - val_mae: 0.2133 - 10s/epoch - 219ms/step\n",
            "Epoch 86/100\n",
            "47/47 - 9s - loss: 0.0624 - mae: 0.2670 - val_loss: 0.0403 - val_mae: 0.2127 - 9s/epoch - 191ms/step\n",
            "Epoch 87/100\n",
            "47/47 - 9s - loss: 0.0656 - mae: 0.2727 - val_loss: 0.0401 - val_mae: 0.2117 - 9s/epoch - 192ms/step\n",
            "Epoch 88/100\n",
            "47/47 - 9s - loss: 0.0629 - mae: 0.2668 - val_loss: 0.0400 - val_mae: 0.2115 - 9s/epoch - 202ms/step\n",
            "Epoch 89/100\n",
            "47/47 - 10s - loss: 0.0642 - mae: 0.2660 - val_loss: 0.0395 - val_mae: 0.2102 - 10s/epoch - 203ms/step\n",
            "Epoch 90/100\n",
            "47/47 - 9s - loss: 0.0642 - mae: 0.2679 - val_loss: 0.0390 - val_mae: 0.2081 - 9s/epoch - 200ms/step\n",
            "Epoch 91/100\n",
            "47/47 - 9s - loss: 0.0612 - mae: 0.2614 - val_loss: 0.0388 - val_mae: 0.2081 - 9s/epoch - 199ms/step\n",
            "Epoch 92/100\n",
            "47/47 - 9s - loss: 0.0626 - mae: 0.2631 - val_loss: 0.0386 - val_mae: 0.2077 - 9s/epoch - 200ms/step\n",
            "Epoch 93/100\n",
            "47/47 - 9s - loss: 0.0616 - mae: 0.2629 - val_loss: 0.0381 - val_mae: 0.2059 - 9s/epoch - 200ms/step\n",
            "Epoch 94/100\n",
            "47/47 - 9s - loss: 0.0630 - mae: 0.2666 - val_loss: 0.0377 - val_mae: 0.2045 - 9s/epoch - 198ms/step\n",
            "Epoch 95/100\n",
            "47/47 - 10s - loss: 0.0621 - mae: 0.2635 - val_loss: 0.0373 - val_mae: 0.2028 - 10s/epoch - 204ms/step\n",
            "Epoch 96/100\n",
            "47/47 - 9s - loss: 0.0606 - mae: 0.2613 - val_loss: 0.0371 - val_mae: 0.2019 - 9s/epoch - 201ms/step\n",
            "Epoch 97/100\n",
            "47/47 - 9s - loss: 0.0597 - mae: 0.2583 - val_loss: 0.0368 - val_mae: 0.2010 - 9s/epoch - 195ms/step\n",
            "Epoch 98/100\n",
            "47/47 - 10s - loss: 0.0591 - mae: 0.2586 - val_loss: 0.0367 - val_mae: 0.2008 - 10s/epoch - 203ms/step\n",
            "Epoch 99/100\n",
            "47/47 - 10s - loss: 0.0584 - mae: 0.2554 - val_loss: 0.0364 - val_mae: 0.2001 - 10s/epoch - 204ms/step\n",
            "Epoch 100/100\n",
            "47/47 - 10s - loss: 0.0576 - mae: 0.2513 - val_loss: 0.0359 - val_mae: 0.1979 - 10s/epoch - 203ms/step\n"
          ]
        }
      ]
    },
    {
      "cell_type": "code",
      "execution_count": null,
      "metadata": {
        "id": "2Ju78F9JebvY",
        "colab": {
          "base_uri": "https://localhost:8080/",
          "height": 295
        },
        "outputId": "efd5db68-7b92-4875-b396-c98e41bad942"
      },
      "outputs": [
        {
          "output_type": "display_data",
          "data": {
            "text/plain": [
              "<Figure size 432x288 with 1 Axes>"
            ],
            "image/png": "[encoded data removed]"
          },
          "metadata": {
            "needs_background": "light"
          }
        }
      ],
      "source": [
        "import matplotlib.pyplot as plt\n",
        "\n",
        "plt.plot(history.history['mae'])\n",
        "plt.plot(history.history['val_mae'])\n",
        "plt.title('Times Series Jagung')\n",
        "plt.ylabel('mae')\n",
        "plt.xlabel('epoch ke-')\n",
        "plt.legend(['train', 'test'], loc = 'upper right')\n",
        "plt.show()"
      ]
    },
    {
      "cell_type": "code",
      "execution_count": null,
      "metadata": {
        "id": "TR6A0AedecyB",
        "colab": {
          "base_uri": "https://localhost:8080/",
          "height": 295
        },
        "outputId": "153e7ace-eb03-4a97-b13e-9b9f89fa2808"
      },
      "outputs": [
        {
          "output_type": "display_data",
          "data": {
            "text/plain": [
              "<Figure size 432x288 with 1 Axes>"
            ],
            "image/png": "[encoded data removed]"
          },
          "metadata": {
            "needs_background": "light"
          }
        }
      ],
      "source": [
        "import matplotlib.pyplot as plt\n",
        "plt.plot(history.history['loss'])\n",
        "plt.plot(history.history['val_loss'])\n",
        "plt.title('Loss Model jagung')\n",
        "plt.ylabel('loss')\n",
        "plt.xlabel('epoch ke-')\n",
        "plt.legend(['train', 'test'], loc = 'upper right')\n",
        "plt.show()"
      ]
    },
    {
      "cell_type": "code",
      "source": [],
      "metadata": {
        "id": "6eJNL2zVQckz"
      },
      "execution_count": null,
      "outputs": []
    }
  ],
  "metadata": {
    "colab": {
      "provenance": []
    },
    "kernelspec": {
      "display_name": "Python 3",
      "name": "python3"
    },
    "language_info": {
      "name": "python"
    }
  },
  "nbformat": 4,
  "nbformat_minor": 0
}